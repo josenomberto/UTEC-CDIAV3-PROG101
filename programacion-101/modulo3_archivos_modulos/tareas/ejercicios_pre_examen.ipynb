{
  "nbformat": 4,
  "nbformat_minor": 0,
  "metadata": {
    "colab": {
      "provenance": [],
      "include_colab_link": true
    },
    "kernelspec": {
      "name": "python3",
      "display_name": "Python 3"
    },
    "language_info": {
      "name": "python"
    }
  },
  "cells": [
    {
      "cell_type": "markdown",
      "metadata": {
        "id": "view-in-github",
        "colab_type": "text"
      },
      "source": [
        "<a href=\"https://colab.research.google.com/github/josenomberto/UTEC-CDIAV3-PROG101/blob/main/programacion-101/modulo3_archivos_modulos/tareas/ejercicios_pre_examen.ipynb\" target=\"_parent\"><img src=\"https://colab.research.google.com/assets/colab-badge.svg\" alt=\"Open In Colab\"/></a>"
      ]
    },
    {
      "cell_type": "markdown",
      "source": [
        "#**Ejercicios - Funciones y Clases**"
      ],
      "metadata": {
        "id": "rD7lP48iAvnR"
      }
    },
    {
      "cell_type": "code",
      "source": [
        "# --------------------------------------------\n",
        "# Ejercicio 1: Registro de astronautas\n",
        "# --------------------------------------------\n",
        "# Crea una función que registre astronautas con nombre, edad y especialidad.\n",
        "# Luego, almacena 3 astronautas y devuelve una lista con aquellos cuya\n",
        "# especialidad sea exactamente \"Ingeniero de vuelo\" (case-sensitive).\n",
        "\n",
        "def registrar_astronauta(nombre: str, edad: int, especialidad: str) -> str:\n",
        "    return f\"Astronauta registrado: {nombre} - {edad} años - Especialidad: {especialidad}\"\n",
        "\n",
        "# Tu código aquí para crear lista y filtrar\n",
        "\n",
        "### Get input from user to save astronauts information\n",
        "counter = 0\n",
        "astronauts = []\n",
        "while counter < 3:\n",
        "  name = str(input('Ingrese nombre de astronauta: ').strip())\n",
        "  age = int(input('Ingrese edad de astronauta: ').strip())\n",
        "  speciality = str(input('Ingrese especialidad de astronauta: ').strip())\n",
        "  print(registrar_astronauta(name,age,speciality))\n",
        "  astronauts.append({'name': name, 'age': age, 'speciality': speciality})\n",
        "  counter += 1\n",
        "\n",
        "### Get list of astronauts with speciality of 'Ingeniero de vuelo'\n",
        "astronaut_list = [astronaut['name'] for astronaut in astronauts if astronaut['speciality'] == 'Ingeniero de vuelo']\n",
        "\n",
        "### Print list of astronauts with speciality of 'Ingeniero de vuelo'\n",
        "print(f'Los astronautas con especialidad \"Ingeniero de vuelo\" son:  {astronaut_list}')"
      ],
      "metadata": {
        "id": "UAIGVucPAEdr",
        "outputId": "6daeda56-4b52-4bc4-dc43-265de4f606f6",
        "colab": {
          "base_uri": "https://localhost:8080/"
        }
      },
      "execution_count": 2,
      "outputs": [
        {
          "output_type": "stream",
          "name": "stdout",
          "text": [
            "Ingrese nombre de astronauta: Miguel\n",
            "Ingrese edad de astronauta: 32\n",
            "Ingrese especialidad de astronauta: Ingeniero de vuelo\n",
            "Astronauta registrado: Miguel - 32 años - Especialidad: Ingeniero de vuelo\n",
            "Ingrese nombre de astronauta: Luis\n",
            "Ingrese edad de astronauta: 45\n",
            "Ingrese especialidad de astronauta: Mecanico\n",
            "Astronauta registrado: Luis - 45 años - Especialidad: Mecanico\n",
            "Ingrese nombre de astronauta: Federico\n",
            "Ingrese edad de astronauta: 39\n",
            "Ingrese especialidad de astronauta: Ingeniero de vuelo\n",
            "Astronauta registrado: Federico - 39 años - Especialidad: Ingeniero de vuelo\n",
            "Los astronautas con especialidad \"Ingeniero de vuelo\" son:  ['Miguel', 'Federico']\n"
          ]
        }
      ]
    },
    {
      "cell_type": "code",
      "execution_count": null,
      "metadata": {
        "id": "9ZAzZO3B8Y0K"
      },
      "outputs": [],
      "source": []
    },
    {
      "cell_type": "code",
      "source": [
        "# --------------------------------------------\n",
        "# Ejercicio 2: Códigos de lanzamiento\n",
        "# --------------------------------------------\n",
        "# Dado un string como \"A23B56C90\", extrae los números y retorna\n",
        "# el promedio de los números pares. Usa slicing y comprensión de listas.\n",
        "\n",
        "def procesar_codigo(codigo: str) -> float:\n",
        "  ''' Función para extraer números de un código y retorna el promedio de los números pares '''\n",
        "  # even_numbers = [int(digit) for digit in codigo if digit.isnumeric() and int(digit) % 2 == 0 and int(digit) != 0]\n",
        "  even_numbers = [int(codigo[i]) for i in range(0,len(codigo)-1) if codigo[i].isnumeric() and int(codigo[i]) % 2 == 0 and int(codigo[i]) != 0]\n",
        "  if len(even_numbers) > 0:\n",
        "    return sum(even_numbers) / len(even_numbers)\n",
        "  else:\n",
        "    return (0)\n",
        "\n",
        "while True:\n",
        "  codigo = input('Ingrese código o salir para terminar: ').strip()\n",
        "  if codigo == 'salir':\n",
        "    print('Saliendo del programa')\n",
        "    break\n",
        "  else:\n",
        "    even_numbers_average = procesar_codigo(codigo)\n",
        "    print(f'El promedio de números pares incluidos en el código {codigo} es {even_numbers_average}')"
      ],
      "metadata": {
        "id": "iMZC8QQA-svk",
        "outputId": "591dfb50-0400-4a1d-f53a-b577e4f4db85",
        "colab": {
          "base_uri": "https://localhost:8080/"
        }
      },
      "execution_count": 3,
      "outputs": [
        {
          "output_type": "stream",
          "name": "stdout",
          "text": [
            "Ingrese código o salir para terminar: A23B56C90\n",
            "El promedio de números pares incluidos en el código A23B56C90 es 4.0\n",
            "Ingrese código o salir para terminar: salir\n",
            "Saliendo del programa\n"
          ]
        }
      ]
    },
    {
      "cell_type": "code",
      "source": [],
      "metadata": {
        "id": "ssXCI_S8AOpl"
      },
      "execution_count": null,
      "outputs": []
    },
    {
      "cell_type": "code",
      "source": [
        "from collections.abc import KeysView\n",
        "# --------------------------------------------\n",
        "# Ejercicio 3: Mapeo de módulos de la nave\n",
        "# --------------------------------------------\n",
        "# Dado un diccionario con estados de módulos (\"activo\"/\"inactivo\"),\n",
        "# devuelve un set con los módulos activos.\n",
        "# Usa assert y lanza RuntimeError si todos están inactivos.\n",
        "\n",
        "def modulos_activos(sistema: dict[str, str]) -> set[str]:\n",
        "  '''\n",
        "  Función que recibe dictionario con estado de módulos y devuelve set con aquellos que estén activos\n",
        "  '''\n",
        "  active_modules = [key for key, values in sistema.items() if sistema[key] == 'activo']\n",
        "\n",
        "  assert len(set(active_modules)) > 0, str(RuntimeError('Todos los modulos son inactivos'))\n",
        "\n",
        "  return set(active_modules)\n",
        "\n",
        "### Define dictionary with modules states\n",
        "# modules_states = {'Modulo1': 'activo', 'Modulo2': 'activo', 'Modulo3': 'inactivo', 'Modulo4': 'activo', 'Modulo5': 'inactivo', 'Modulo6': 'inactivo', 'Modulo7': 'activo'}\n",
        "modules_states = {'Modulo1': 'inactivo', 'Modulo2': 'inactivo', 'Modulo3': 'inactivo', 'Modulo4': 'inactivo', 'Modulo5': 'inactivo', 'Modulo6': 'inactivo', 'Modulo7': 'inactivo'}\n",
        "\n",
        "\n",
        "### Get actives modules\n",
        "try:\n",
        "  active_modules = modulos_activos(modules_states)\n",
        "  print(f'Los módulos activos son {active_modules}')\n",
        "except Exception as e:\n",
        "  print(e)\n",
        "\n"
      ],
      "metadata": {
        "id": "0uZX9eqmAQuZ",
        "outputId": "dc5cb4c8-4cc1-4c49-e3af-28341bf53a3f",
        "colab": {
          "base_uri": "https://localhost:8080/"
        }
      },
      "execution_count": 11,
      "outputs": [
        {
          "output_type": "stream",
          "name": "stdout",
          "text": [
            "Todos los modulos son inactivos\n"
          ]
        }
      ]
    },
    {
      "cell_type": "code",
      "source": [
        "# --------------------------------------------\n",
        "# Ejercicio 4: Simulación de batería\n",
        "# --------------------------------------------\n",
        "# Crea una clase BateriaSolar con atributos y métodos para cargar y consumir batería.\n",
        "# Simula la operación y devuelve el nivel antes y después.\n",
        "\n",
        "class BateriaSolar:\n",
        "    def __init__(self, nivel: float):\n",
        "        self.nivel = max(0, min(nivel, 100))\n",
        "\n",
        "    def cargar(self, horas: float, tasa: float = 0.10):\n",
        "        self.nivel += horas * 100 * tasa\n",
        "        self.nivel = min(self.nivel, 100)\n",
        "\n",
        "    def consumir(self, uso: float):\n",
        "        self.nivel -= uso\n",
        "        self.nivel = max(self.nivel, 0)\n",
        "\n",
        "    def simular(self, horas: float, uso: float) -> tuple[float, float]:\n",
        "        antes = self.nivel\n",
        "        self.cargar(horas)\n",
        "        self.consumir(uso)\n",
        "        return (antes, self.nivel)\n",
        "\n",
        "# Prueba tu clase aquí\n",
        "\n",
        "print('Hola')"
      ],
      "metadata": {
        "id": "sY91STxWARqu",
        "outputId": "71ec8702-93a3-404f-96bc-df40896e8b59",
        "colab": {
          "base_uri": "https://localhost:8080/"
        }
      },
      "execution_count": 1,
      "outputs": [
        {
          "output_type": "stream",
          "name": "stdout",
          "text": [
            "Hola\n"
          ]
        }
      ]
    },
    {
      "cell_type": "code",
      "source": [],
      "metadata": {
        "id": "nqECsvLjAUOn"
      },
      "execution_count": null,
      "outputs": []
    },
    {
      "cell_type": "code",
      "source": [
        "# --------------------------------------------\n",
        "# Ejercicio 5: Matriz de sensores\n",
        "# --------------------------------------------\n",
        "# Crea una clase SensorMatriz con métodos para calcular el promedio\n",
        "# de temperaturas y retornar las coordenadas donde hay alertas > 70.\n",
        "\n",
        "class SensorMatriz:\n",
        "    def __init__(self, matriz: list[list[float]]):\n",
        "        self.matriz = matriz\n",
        "\n",
        "    def promedio(self) -> float:\n",
        "        total = sum(sum(fila) for fila in self.matriz)\n",
        "        count = sum(len(fila) for fila in self.matriz)\n",
        "        return total / count\n",
        "\n",
        "    def alertas(self, umbral: float = 70.0) -> list[tuple[int, int]]:\n",
        "        return [(i, j)\n",
        "                for i in range(len(self.matriz))\n",
        "                for j in range(len(self.matriz[0]))\n",
        "                if self.matriz[i][j] > umbral]\n",
        "\n",
        "# Prueba aquí con una matriz 3x3\n"
      ],
      "metadata": {
        "id": "QVMRouR8AZZA"
      },
      "execution_count": null,
      "outputs": []
    },
    {
      "cell_type": "code",
      "source": [],
      "metadata": {
        "id": "0x4iX5a1AZ9Y"
      },
      "execution_count": null,
      "outputs": []
    },
    {
      "cell_type": "code",
      "source": [
        "# --------------------------------------------\n",
        "# Ejercicio 6: Bitácora de vuelo\n",
        "# --------------------------------------------\n",
        "# Escribe mensajes con fecha en un archivo de bitácora. Si hay error, loguea en otro archivo.\n",
        "\n",
        "from datetime import datetime\n",
        "\n",
        "def escribir_bitacora(mensaje: str) -> None:\n",
        "    timestamp = datetime.now().strftime('%Y-%m-%d %H:%M')\n",
        "    try:\n",
        "        with open(\"bitacora.txt\", \"a\") as f:\n",
        "            f.write(f\"{timestamp} - {mensaje}\\n\")\n",
        "    except:\n",
        "        with open(\"bitacora_error.log\", \"a\") as f:\n",
        "            f.write(f\"{timestamp} - ERROR DE ESCRITURA\\n\")\n",
        "\n",
        "# Prueba aquí\n"
      ],
      "metadata": {
        "id": "cc5y7rhtAaNn"
      },
      "execution_count": null,
      "outputs": []
    },
    {
      "cell_type": "code",
      "source": [],
      "metadata": {
        "id": "XbnDU4pIAcbn"
      },
      "execution_count": null,
      "outputs": []
    },
    {
      "cell_type": "code",
      "source": [
        "# --------------------------------------------\n",
        "# Ejercicio 7: Módulo de comunicación\n",
        "# --------------------------------------------\n",
        "# Crea una clase que simule un canal de comunicación con validación de conexión\n",
        "# y bloqueo por palabras clave.\n",
        "\n",
        "class ModuloComunicacion:\n",
        "    def __init__(self):\n",
        "        self.conectado = False\n",
        "\n",
        "    def conectar(self):\n",
        "        self.conectado = True\n",
        "\n",
        "    def desconectar(self):\n",
        "        self.conectado = False\n",
        "\n",
        "    def enviar_mensaje(self, msg: str) -> str:\n",
        "        if not self.conectado:\n",
        "            raise ConnectionError(\"Sin enlace\")\n",
        "\n",
        "        prohibidas = {\"error\", \"falla\", \"crítico\"}\n",
        "        count = sum(1 for palabra in prohibidas if palabra in msg.lower())\n",
        "        if count >= 3:\n",
        "            return \"Mensaje bloqueado\"\n",
        "        return \"Mensaje enviado\"\n",
        "\n",
        "# Prueba tu clase aquí\n"
      ],
      "metadata": {
        "id": "GrI0sNWwAcwZ"
      },
      "execution_count": null,
      "outputs": []
    },
    {
      "cell_type": "code",
      "source": [],
      "metadata": {
        "id": "dC5IaFNzAelD"
      },
      "execution_count": null,
      "outputs": []
    },
    {
      "cell_type": "code",
      "source": [
        "# --------------------------------------------\n",
        "# Ejercicio 8: Carga útil de la nave\n",
        "# --------------------------------------------\n",
        "# Filtra cargas cuyo peso sea menor a 130 y devuelve la lista y el total.\n",
        "\n",
        "def filtrar_carga(cargas: list[tuple[str, int]], limite: int = 130) -> tuple[list[tuple[str,int]], int]:\n",
        "    filtradas = [c for c in cargas if c[1] < limite]\n",
        "    total = sum(c[1] for c in filtradas)\n",
        "    return filtradas, total\n",
        "\n",
        "# Prueba con ejemplo\n"
      ],
      "metadata": {
        "id": "EAJSHjKiAe-A"
      },
      "execution_count": null,
      "outputs": []
    },
    {
      "cell_type": "code",
      "source": [],
      "metadata": {
        "id": "mFLqd88FAhXh"
      },
      "execution_count": null,
      "outputs": []
    },
    {
      "cell_type": "code",
      "source": [
        "# --------------------------------------------\n",
        "# Ejercicio 9: Monitor de fallas\n",
        "# --------------------------------------------\n",
        "# Recibe un diccionario con niveles de falla. Lanza excepción si alguno > 90\n",
        "# y devuelve módulos \"seguros\" (nivel < 70).\n",
        "\n",
        "def verificar_modulos(fallas: dict[str, int]) -> list[str]:\n",
        "    for modulo, nivel in fallas.items():\n",
        "        if nivel > 90:\n",
        "            raise ValueError(f\"Falla crítica en {modulo}\")\n",
        "    return [m for m, n in fallas.items() if n < 70]\n",
        "\n",
        "# Prueba aquí\n"
      ],
      "metadata": {
        "id": "4PiPTFGiAhoX"
      },
      "execution_count": null,
      "outputs": []
    },
    {
      "cell_type": "code",
      "source": [],
      "metadata": {
        "id": "DuKkbbIxAj3L"
      },
      "execution_count": null,
      "outputs": []
    },
    {
      "cell_type": "code",
      "source": [
        "# --------------------------------------------\n",
        "# Ejercicio 10: Nave espacial (módulos y paquetes)\n",
        "# --------------------------------------------\n",
        "# Crea un archivo llamado nave.py con la siguiente clase:\n",
        "\n",
        "# En nave.py\n",
        "# --------------------------\n",
        "# class NaveEspacial:\n",
        "#     def __init__(self, nombre, combustible, tripulacion):\n",
        "#         self.nombre = nombre\n",
        "#         self.combustible = combustible\n",
        "#         self.tripulacion = tripulacion\n",
        "#\n",
        "#     def despegar(self):\n",
        "#         return \"Despegue exitoso\" if self.combustible > 50 else \"Combustible insuficiente\"\n",
        "# --------------------------\n",
        "\n",
        "# En tu notebook o script principal:\n",
        "from nave import NaveEspacial\n",
        "\n",
        "nave = NaveEspacial(\"Odisea\", 75, [\"Alice\", \"Bob\"])\n",
        "print(nave.despegar())\n"
      ],
      "metadata": {
        "id": "hcYcB7fpAkFr"
      },
      "execution_count": null,
      "outputs": []
    },
    {
      "cell_type": "code",
      "source": [],
      "metadata": {
        "id": "EYk5WNAMAmGK"
      },
      "execution_count": null,
      "outputs": []
    },
    {
      "cell_type": "markdown",
      "source": [
        "#Gracias por completar este laboratorio!"
      ],
      "metadata": {
        "id": "e9C9Bv6aArcZ"
      }
    }
  ]
}