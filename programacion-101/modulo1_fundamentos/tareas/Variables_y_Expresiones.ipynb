{
  "nbformat": 4,
  "nbformat_minor": 0,
  "metadata": {
    "colab": {
      "provenance": [],
      "include_colab_link": true
    },
    "kernelspec": {
      "name": "python3",
      "display_name": "Python 3"
    },
    "language_info": {
      "name": "python"
    }
  },
  "cells": [
    {
      "cell_type": "markdown",
      "metadata": {
        "id": "view-in-github",
        "colab_type": "text"
      },
      "source": [
        "<a href=\"https://colab.research.google.com/github/josenomberto/UTEC-CDIAV3-PROG101/blob/main/programacion-101/modulo1_fundamentos/tareas/Variables_y_Expresiones.ipynb\" target=\"_parent\"><img src=\"https://colab.research.google.com/assets/colab-badge.svg\" alt=\"Open In Colab\"/></a>"
      ]
    },
    {
      "cell_type": "markdown",
      "source": [
        "<img src=\"https://posgrado.utec.edu.pe/sites/default/files/2023-08/Testimonial-home-2.jpg\" alt=\"HTML5 Icon\" width=\"900\" height=\"250\" >\n"
      ],
      "metadata": {
        "id": "cqadFmlrgAXp"
      }
    },
    {
      "cell_type": "markdown",
      "source": [
        "# **Ejercicios - Variables y Expresiones**"
      ],
      "metadata": {
        "id": "tW1-ULBmb0Cm"
      }
    },
    {
      "cell_type": "markdown",
      "source": [
        "**Ejercicio 1: Calculadora de ahorro semanal**\n",
        "\n",
        "Pide al usuario cuánto dinero ahorra cada día de lunes a domingo. Al final, muestra cuánto ahorró en total esa semana y cuánto tendría en un mes si repite el mismo patrón cada semana.\n",
        "\n",
        "- Pista: Usar 7 variables (ahorro_lunes, ahorro_martes, …), input(), float(), +, *."
      ],
      "metadata": {
        "id": "9igzfvIKqNGr"
      }
    },
    {
      "cell_type": "code",
      "source": [
        "## INICIO DE CÓDIGO\n",
        "\n",
        "### Get daily savings\n",
        "\n",
        "#print('\\033[1;34;48m Obteniendo ahorro por día \\033[1;37;0m')\n",
        "print('Obteniendo ahorro por día')\n",
        "monday_savings = float(input('\\t Ingrese el ahorro del día lunes: '))\n",
        "tuesday_savings = float(input('\\t Ingrese el ahorro del día martes: '))\n",
        "wednesday_savings = float(input('\\t Ingrese el ahorro del día miércoles: '))\n",
        "thursday_savings = float(input('\\t Ingrese el ahorro del día jueves: '))\n",
        "friday_savings = float(input('\\t Ingrese el ahorro del día viernes: '))\n",
        "saturday_savings = float(input('\\t Ingrese el ahorro del día sábado: '))\n",
        "sunday_savings = float(input('\\t Ingrese el ahorro del día domingo: '))\n",
        "\n",
        "### Calculate weekly ad monthly savings\n",
        "\n",
        "weekly_savings = monday_savings + tuesday_savings + wednesday_savings + thursday_savings + friday_savings + saturday_savings + sunday_savings\n",
        "monthly_savings = weekly_savings*4 + monday_savings + tuesday_savings\n",
        "\n",
        "### Print weekly ad monthly savings\n",
        "\n",
        "#print('\\033[1;34;48m El ahorro proyectado es: \\033[1;37;0m')\n",
        "print('El ahorro proyectado es: ')\n",
        "print(f'\\t Ahorro semanal: {round(weekly_savings,2)}')\n",
        "print(f'\\t Ahorro mensual: {round(monthly_savings,2)}')\n",
        "\n",
        "## FIN DE CÓDIGO"
      ],
      "metadata": {
        "id": "BX-O1-4wqWF9",
        "colab": {
          "base_uri": "https://localhost:8080/"
        },
        "outputId": "62851ac0-b8bb-4254-f108-b7ea90f5877c"
      },
      "execution_count": 6,
      "outputs": [
        {
          "output_type": "stream",
          "name": "stdout",
          "text": [
            "Obteniendo ahorro por día\n",
            "\t Ingrese el ahorro del día lunes: 10.20\n",
            "\t Ingrese el ahorro del día martes: 30.28\n",
            "\t Ingrese el ahorro del día miércoles: 12.50\n",
            "\t Ingrese el ahorro del día jueves: 24.80\n",
            "\t Ingrese el ahorro del día viernes: 21.30\n",
            "\t Ingrese el ahorro del día sábado: 17.10\n",
            "\t Ingrese el ahorro del día domingo: 19.30\n",
            "El ahorro proyectado es: \n",
            "\t Ahorro semanal: 135.48\n",
            "\t Ahorro mensual: 582.4\n"
          ]
        }
      ]
    },
    {
      "cell_type": "markdown",
      "source": [
        "**Ejercicio 2: Conversor de segundos**\n",
        "\n",
        "Solicita una cantidad total de segundos y muestra cuántos minutos y segundos representa.\n",
        "\n",
        "Ejemplo: 130 segundos → 2 minutos y 10 segundos\n",
        "* Pista: Usar // y %\n"
      ],
      "metadata": {
        "id": "oLaw6UggqV3E"
      }
    },
    {
      "cell_type": "code",
      "source": [
        "## INICIO DE CÓDIGO\n",
        "\n",
        "### Get the amount of seconds\n",
        "#print('\\033[1;34;48m Obteniendo la cantidad total de segundos \\033[1;37;0m')\n",
        "print('Obteniendo total de segundos')\n",
        "total_seconds = int(input('\\t Ingrese el total de segundos: '))\n",
        "\n",
        "\n",
        "### Calculate the equivalent minutes + seconds\n",
        "minutes = total_seconds//60\n",
        "seconds = total_seconds%60\n",
        "\n",
        "### Print minutes and seconds\n",
        "#print('\\033[1;34;48m Calculando equivalencia \\033[1;37;0m')\n",
        "print('Calculando equivalencia')\n",
        "print(f'\\t {total_seconds} segundos equivalen a {minutes} minutos y {seconds} segundos')\n",
        "\n",
        "## FIN DE CÓDIGO"
      ],
      "metadata": {
        "id": "bAuxBROrqaWb",
        "colab": {
          "base_uri": "https://localhost:8080/"
        },
        "outputId": "e90ff414-667d-4332-c1ef-05ebe39eef93"
      },
      "execution_count": 11,
      "outputs": [
        {
          "output_type": "stream",
          "name": "stdout",
          "text": [
            "Obteniendo total de segundos\n",
            "\t Ingrese el total de segundos: 589\n",
            "Calculando equivalencia\n",
            "\t 589 segundos equivalen a 9 minutos y 49 segundos\n"
          ]
        }
      ]
    },
    {
      "cell_type": "markdown",
      "source": [
        "**Ejercicio 3: Puntuación de juego**\n",
        "\n",
        "Un videojuego otorga:\n",
        "\n",
        "* 10 puntos por cada estrella recolectada,\n",
        "* 50 puntos por cada gema recolectada, y\n",
        "* 1 punto por cada segundo que el jugador se mantuvo vivo.\n",
        "\n",
        "Pide al usuario las tres cantidades y muestra su puntaje total.\n",
        "\n",
        "* Pista: total = estrellas*10 + gemas*50 + tiempo"
      ],
      "metadata": {
        "id": "dK4EIGoKrW2B"
      }
    },
    {
      "cell_type": "code",
      "source": [
        "## INICIO DE CÓDIGO\n",
        "\n",
        "### Get the amount of stars, gems and seconds\n",
        "#print('\\033[1;34;48m Obteniendo las cantidades recolectadas \\033[1;37;0m')\n",
        "print('Obteniendo cantidades recolectadas')\n",
        "stars = int(input('\\t Ingrese las cantidad de estrellas: '))\n",
        "gems = int(input('\\t Ingrese las cantidad de gemas: '))\n",
        "seconds = int(input('\\t Ingrese las cantidad de segundos vivo: '))\n",
        "\n",
        "### Calculate the equivalent minutes + seconds\n",
        "total_points = stars*10 + gems*50 + seconds\n",
        "\n",
        "### Print total points\n",
        "#print('\\033[1;34;48m Calculando puntaje \\033[1;37;0m')\n",
        "print('Calculando puntaje')\n",
        "#print(f'\\t El puntaje total es \\033[1;36;48m{total_points}\\033[1;37;0m')\n",
        "print(f'\\t El puntaje total es {total_points}')\n",
        "\n",
        "## FIN DE CÓDIGO"
      ],
      "metadata": {
        "id": "jkBQHQF1rlUY"
      },
      "execution_count": 10,
      "outputs": []
    },
    {
      "cell_type": "markdown",
      "source": [
        "**Ejercicio 4: Conversor de monedas con tasa personalizada**\n",
        "\n",
        "Solicita al usuario:\n",
        "\n",
        "* El monto en soles\n",
        "* La tasa de cambio a dólares\n",
        "\n",
        "Muestra el equivalente en dólares, redondeado a 2 decimales.\n",
        "\n",
        "* Pista: Usar float(), *, round(valor, 2)"
      ],
      "metadata": {
        "id": "wW9Edl_8rlt1"
      }
    },
    {
      "cell_type": "code",
      "source": [
        "## INICIO DE CÓDIGO\n",
        "\n",
        "### Get the amount in soles and exchange rate to dollars\n",
        "#print('\\033[1;34;48m Obteniendo cantidad y tasa de cambio \\033[1;37;0m')\n",
        "print('Obteniendo cantidad y tasa de cambio')\n",
        "amount_soles = float(input('\\t Ingrese la cantidad en soles: '))\n",
        "exchange_rate = float(input('\\t Ingrese la tasa de cambio a dólares: '))\n",
        "\n",
        "\n",
        "### Calculate the amount of dollars\n",
        "amount_dollars = round(amount_soles*exchange_rate,2)\n",
        "\n",
        "### Print amount of dollars\n",
        "#print('\\033[1;34;48m Calculando cantidad en dolares \\033[1;37;0m')\n",
        "print('Calculando cantidad en dolares')\n",
        "#print(f'\\t {amount_soles} soles equivalen a \\033[1;36;48m{amount_dollars}\\033[1;37;0m dólares')\n",
        "print(f'\\t {amount_soles} soles equivalen a {amount_dollars} dólares')\n",
        "\n",
        "## FIN DE CÓDIGO"
      ],
      "metadata": {
        "id": "fTCsCohHrmQW",
        "colab": {
          "base_uri": "https://localhost:8080/"
        },
        "outputId": "2745f712-6bcf-4cdd-8c1c-0e97f5e5d967"
      },
      "execution_count": 12,
      "outputs": [
        {
          "output_type": "stream",
          "name": "stdout",
          "text": [
            "Obteniendo cantidad y tasa de cambio\n",
            "\t Ingrese la cantidad en soles: 238\n",
            "\t Ingrese la tasa de cambio a dólares: 0.27\n",
            "Calculando cantidad en dolares\n",
            "\t 238.0 soles equivalen a 64.26 dólares\n"
          ]
        }
      ]
    },
    {
      "cell_type": "markdown",
      "source": [
        "**Ejercicio 5: Costo compartido de viaje**\n",
        "\n",
        "Tres amigos hacen un viaje y pagan distintos montos:\n",
        "\n",
        "* Ana pagó gasolina,\n",
        "* Luis pagó peajes,\n",
        "* Carla pagó comida.\n",
        "\n",
        "Pide los tres montos, calcula el total y cuánto debería aportar cada uno para que paguen igual.\n",
        "\n",
        "* Pista: Calcular el total y luego dividirlo entre 3"
      ],
      "metadata": {
        "id": "JYUyJAidrmnT"
      }
    },
    {
      "cell_type": "code",
      "source": [
        "## INICIO DE CÓDIGO\n",
        "\n",
        "### Get the amount in soles for each friend\n",
        "#print('\\033[1;34;48m Obteniendo cantidad gastada por cada amigo \\033[1;37;0m')\n",
        "print('Obteniendo cantidad gastada por cada amigo')\n",
        "ana_expense = float(input('\\t Ingrese la cantidad gastada por Ana: '))\n",
        "luis_expense = float(input('\\t Ingrese la cantidad gastada por Luis: '))\n",
        "carla_expense = float(input('\\t Ingrese la cantidad gastada por Carla: '))\n",
        "\n",
        "### Calculate the equitable amount\n",
        "#print('\\033[1;34;48m Calculando cantidad en dolares \\033[1;37;0m')\n",
        "print('Calculando cantidad en dolares')\n",
        "equitable_amount = round((ana_expense + luis_expense + carla_expense)/3,2)\n",
        "\n",
        "### Print the equitable amount\n",
        "#print(f'\\t Para que paguen igual, cada uno debió aportar \\033[1;36;48m{equitable_amount}\\033[1;37;0m soles')\n",
        "print(f'\\t Para que paguen igual, cada uno debió aportar {equitable_amount} soles')\n",
        "\n",
        "\n",
        "## FIN DE CÓDIGO"
      ],
      "metadata": {
        "id": "SGjH-m_mrom9",
        "colab": {
          "base_uri": "https://localhost:8080/"
        },
        "outputId": "41d0798c-0709-4cb3-9881-d9a0b61ab86b"
      },
      "execution_count": 13,
      "outputs": [
        {
          "output_type": "stream",
          "name": "stdout",
          "text": [
            "Obteniendo cantidad gastada por cada amigo\n",
            "\t Ingrese la cantidad gastada por Ana: 145.80\n",
            "\t Ingrese la cantidad gastada por Luis: 234.70\n",
            "\t Ingrese la cantidad gastada por Carla: 89.40\n",
            "Calculando cantidad en dolares\n",
            "\t Para que paguen igual, cada uno debió aportar 156.63 soles\n"
          ]
        }
      ]
    },
    {
      "cell_type": "markdown",
      "source": [
        "**Ejercicio 6: Tiempo total de estudio**\n",
        "\n",
        "Solicita al usuario cuántas horas estudió en 4 materias distintas.\n",
        "\n",
        "Muestra el total de horas de estudio en la semana y el promedio diario (considerando 7 días).\n"
      ],
      "metadata": {
        "id": "skhBiCaCro5l"
      }
    },
    {
      "cell_type": "code",
      "source": [
        "## INICIO DE CÓDIGO\n",
        "\n",
        "### Get the amount hours per course\n",
        "#print('\\033[1;34;48m Obteniendo cantidad de estudio por curso \\033[1;37;0m')\n",
        "print('Obteniendo cantidad de estudio por curso')\n",
        "math_hours = float(input('\\t Ingrese la cantidad de horas de estudio en Matemáticas: '))\n",
        "physics_hours = float(input('\\t Ingrese la cantidad de horas de estudio en Física: '))\n",
        "chemestry_hours = float(input('\\t Ingrese la cantidad de horas de estudio en Quimica: '))\n",
        "history_hours = float(input('\\t Ingrese la cantidad de horas de estudio en History: '))\n",
        "\n",
        "### Calculate the weekly and daily average hours\n",
        "#print('\\033[1;34;48m Calculando horas semanal y promedio diario \\033[1;37;0m')\n",
        "print('Calculando horas semanal y promedio diario')\n",
        "weekly_hours = math_hours + physics_hours + chemestry_hours + history_hours\n",
        "daily_hours = round(weekly_hours / 7,2)\n",
        "\n",
        "### Print the equitable amount\n",
        "#print(f'\\t El total de horas de estudio semanal es \\033[1;36;48m{weekly_hours}\\033[1;37;0m horas, y de horas diarias promedio es \\033[1;36;48m{daily_hours}\\033[1;37;0m horas')\n",
        "print(f'\\t El total de horas de estudio semanal es {weekly_hours} horas, y de horas diarias promedio es {daily_hours} horas')\n",
        "\n",
        "## FIN DE CÓDIGO"
      ],
      "metadata": {
        "id": "HnFuV1RPrqXQ",
        "colab": {
          "base_uri": "https://localhost:8080/"
        },
        "outputId": "8791717e-a2cb-4c2d-cae7-07e95c379d8f"
      },
      "execution_count": 16,
      "outputs": [
        {
          "output_type": "stream",
          "name": "stdout",
          "text": [
            "Obteniendo cantidad de estudio por curso\n",
            "\t Ingrese la cantidad de horas de estudio en Matemáticas: 20\n",
            "\t Ingrese la cantidad de horas de estudio en Física: 13\n",
            "\t Ingrese la cantidad de horas de estudio en Quimica: 7\n",
            "\t Ingrese la cantidad de horas de estudio en History: 19\n",
            "Calculando horas semanal y promedio diario\n",
            "\t El total de horas de estudio semanal es 59.0 horas, y de horas diarias promedio es 8.43 horas\n"
          ]
        }
      ]
    },
    {
      "cell_type": "markdown",
      "source": [
        "**Ejercicio 7: Nombre codificado (nivel string)**\n",
        "\n",
        "Pide al usuario su nombre completo y muestra:\n",
        "\n",
        "* La cantidad de caracteres (con len())\n",
        "* Su nombre todo en mayúsculas (.upper())\n",
        "* Su nombre todo en minúsculas (.lower())\n"
      ],
      "metadata": {
        "id": "rNjtOXKWrqs5"
      }
    },
    {
      "cell_type": "code",
      "source": [
        "## INICIO DE CÓDIGO\n",
        "\n",
        "### Get user full name\n",
        "#print('\\033[1;34;48m Obteniendo nombre de usuario \\033[1;37;0m')\n",
        "print('Obteniendo nombre de usuario')\n",
        "full_name = input('\\t Ingrese su nombre completo: ')\n",
        "\n",
        "### Print the amount of chars, fullname in uppercas and fullname in lowercase\n",
        "#print(f'\\t Cantidad de caracteres: \\033[1;36;48m{len(full_name)}\\033[1;37;0m')\n",
        "#print(f'\\t Nombre completo en mayúsculas: \\033[1;36;48m {full_name.upper()}\\033[1;37;0m')\n",
        "#print(f'\\t Nombre completo en minúsculas: \\033[1;36;48m {full_name.lower()}\\033[1;37;0m')\n",
        "print(f'\\t Cantidad de caracteres: {len(full_name)}')\n",
        "print(f'\\t Nombre completo en mayúsculas: {full_name.upper()}')\n",
        "print(f'\\t Nombre completo en minúsculas: {full_name.lower()}')\n",
        "\n",
        "\n",
        "## FIN DE CÓDIGO"
      ],
      "metadata": {
        "id": "GnGm74GXrsL0",
        "colab": {
          "base_uri": "https://localhost:8080/"
        },
        "outputId": "36d6e53f-50ef-4041-e7a3-8294edafe471"
      },
      "execution_count": 20,
      "outputs": [
        {
          "output_type": "stream",
          "name": "stdout",
          "text": [
            "Obteniendo nombre de usuario\n",
            "\t Ingrese su nombre completo: jOSe CaRLoS\n",
            "\t Cantidad de caracteres: 11\n",
            "\t Nombre completo en mayúsculas: JOSE CARLOS\n",
            "\t Nombre completo en minúsculas: jose carlos\n"
          ]
        }
      ]
    },
    {
      "cell_type": "markdown",
      "source": [
        "**Ejercicio 8: Frase repetida**\n",
        "\n",
        "Pide una frase y un número n, y muestra la frase repetida n veces, cada una en una línea.\n",
        "\n",
        "* Pista: print(frase * n)  # y/o con '\\n'"
      ],
      "metadata": {
        "id": "lrhPyjmWrse2"
      }
    },
    {
      "cell_type": "code",
      "source": [
        "## INICIO DE CÓDIGO\n",
        "\n",
        "## FIN DE CÓDIGO"
      ],
      "metadata": {
        "id": "Vzef3t_Lru0p"
      },
      "execution_count": null,
      "outputs": []
    },
    {
      "cell_type": "markdown",
      "source": [
        "**Ejercicio 9: División de cuentas**\n",
        "\n",
        "Un grupo de amigos pide una cuenta por S/ 250.\n",
        "Pide al usuario cuántas personas están en el grupo y muestra cuánto debe pagar cada uno.\n",
        "\n",
        "Asegúrate de redondear el resultado a 2 decimales.\n",
        "\n",
        "* Pista: Usa la funcion round()"
      ],
      "metadata": {
        "id": "5NpbbGR_rvNH"
      }
    },
    {
      "cell_type": "code",
      "source": [
        "## INICIO DE CÓDIGO\n",
        "\n",
        "## FIN DE CÓDIGO"
      ],
      "metadata": {
        "id": "uMxuVCUVrvj6"
      },
      "execution_count": null,
      "outputs": []
    },
    {
      "cell_type": "markdown",
      "source": [
        "**Ejercicio 10: Calendario de clases**\n",
        "\n",
        "Pide cuántas horas se estudia en promedio por día, y cuántos días tiene el mes.\n",
        "\n",
        "Calcula cuántas horas de estudio habrá ese mes."
      ],
      "metadata": {
        "id": "p3PYp0l4pxuI"
      }
    },
    {
      "cell_type": "code",
      "source": [
        "## INICIO DE CÓDIGO\n",
        "\n",
        "## FIN DE CÓDIGO"
      ],
      "metadata": {
        "id": "y1bXFffhrxk2"
      },
      "execution_count": null,
      "outputs": []
    },
    {
      "cell_type": "markdown",
      "source": [
        "---\n",
        "\n",
        "# Gracias por completar este laboratorio!\n",
        "\n",
        "---\n"
      ],
      "metadata": {
        "id": "8_ZocYoOrx3Z"
      }
    }
  ]
}