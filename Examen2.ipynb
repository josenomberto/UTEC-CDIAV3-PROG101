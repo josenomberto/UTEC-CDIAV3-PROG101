{
  "nbformat": 4,
  "nbformat_minor": 0,
  "metadata": {
    "colab": {
      "provenance": [],
      "authorship_tag": "ABX9TyOHKjsC9nl3DRn+Z9USuNNW",
      "include_colab_link": true
    },
    "kernelspec": {
      "name": "python3",
      "display_name": "Python 3"
    },
    "language_info": {
      "name": "python"
    }
  },
  "cells": [
    {
      "cell_type": "markdown",
      "metadata": {
        "id": "view-in-github",
        "colab_type": "text"
      },
      "source": [
        "<a href=\"https://colab.research.google.com/github/josenomberto/UTEC-CDIAV3-PROG101/blob/main/Examen2.ipynb\" target=\"_parent\"><img src=\"https://colab.research.google.com/assets/colab-badge.svg\" alt=\"Open In Colab\"/></a>"
      ]
    },
    {
      "cell_type": "code",
      "execution_count": null,
      "metadata": {
        "colab": {
          "base_uri": "https://localhost:8080/"
        },
        "id": "YIZy9Pdzu5xD",
        "outputId": "6bc1b591-e1b1-4244-cfb2-01c9540287af"
      },
      "outputs": [
        {
          "output_type": "stream",
          "name": "stdout",
          "text": [
            "['AI Rebellion', 'Breaking Python', 'Data Science 101', 'Machine Love', 'Neural Networks']\n"
          ]
        }
      ],
      "source": [
        "### Pregunta 1\n",
        "\n",
        "catalogo_popular = (\"Breaking Python\", \"Data Science 101\", \"Machine Love\", \"Debug Wars\")\n",
        "\n",
        "catalogo_popular_list = list(catalogo_popular)\n",
        "\n",
        "catalogo_popular_list.append(\"Neural Networks\")\n",
        "\n",
        "catalogo_popular_list[-2] = \"AI Rebellion\"\n",
        "\n",
        "catalogo_popular_list.sort()\n",
        "\n",
        "print(catalogo_popular_list)\n",
        "\n"
      ]
    },
    {
      "cell_type": "code",
      "source": [
        "### Pregunta 2\n",
        "\n",
        "generos = [\"Drama\", \"Comedia\", \"Acción\", \"Sci-Fi\", \"Documental\", \"Terror\", \"Romance\"]\n",
        "\n",
        "### Genero del medio\n",
        "print(generos[3:5])\n",
        "\n",
        "### Tres primeros generos\n",
        "print(generos[0:3])\n",
        "\n",
        "### Géneros ordenados en orden inverso\n",
        "print(generos.sort(reverse=True))"
      ],
      "metadata": {
        "colab": {
          "base_uri": "https://localhost:8080/"
        },
        "id": "f8L94fP8wMJp",
        "outputId": "c6932541-fb9a-4111-f988-a241cb18fcf2"
      },
      "execution_count": null,
      "outputs": [
        {
          "output_type": "stream",
          "name": "stdout",
          "text": [
            "['Sci-Fi', 'Documental']\n",
            "['Drama', 'Comedia', 'Acción']\n",
            "None\n"
          ]
        }
      ]
    },
    {
      "cell_type": "code",
      "source": [
        "### Pregunta 3\n",
        "\n",
        "ratings = [4.5, 3.0, 5.0, 2.5, 4.0, 1.5]\n",
        "\n",
        "### Lista con ratings mayores a 3.5\n",
        "ratings_mayores_3_5 = [rating for rating in ratings if rating > 3.5]\n",
        "print(ratings_mayores_3_5)\n",
        "\n",
        "### Lista con ratings convertidos en escala del 1 al 100\n",
        "ratings_convertidos_1_100 = [rating*20 for rating in ratings]\n",
        "print(ratings_convertidos_1_100)\n",
        "\n",
        "### Lista de strings con Alta, Media, Baja\n",
        "ratings_strings = ['Alta' if rating > 4 else 'Baja' if rating < 3 else 'Media' for rating in ratings]\n",
        "print(ratings_strings)"
      ],
      "metadata": {
        "colab": {
          "base_uri": "https://localhost:8080/"
        },
        "id": "yLoZWOxnxCKu",
        "outputId": "9dc1659d-5dcc-4d24-8d27-fe0c7d2a887b"
      },
      "execution_count": null,
      "outputs": [
        {
          "output_type": "stream",
          "name": "stdout",
          "text": [
            "[4.5, 5.0, 4.0]\n",
            "[90.0, 60.0, 100.0, 50.0, 80.0, 30.0]\n",
            "['Alta', 'Media', 'Alta', 'Baja', 'Media', 'Baja']\n"
          ]
        }
      ]
    },
    {
      "cell_type": "code",
      "source": [
        "### Pregunta 4\n",
        "\n",
        "historial = {\"Breaking Python\":3, \"Machine Love\":5, \"Data Science 101\":2}\n",
        "\n",
        "### Aumenta en 1 la cantidad de veces que \"Data Science 101\"\n",
        "historial[\"Data Science 101\"] += 1\n",
        "print(historial)\n",
        "\n",
        "### Añade \"AI Rebellion\" con 1\n",
        "historial[\"AI Rebellion\"] = 1\n",
        "print(historial)\n",
        "\n",
        "### Elimina \"Machine Love\"\n",
        "del historial[\"Machine Love\"]\n",
        "print(historial)"
      ],
      "metadata": {
        "colab": {
          "base_uri": "https://localhost:8080/"
        },
        "id": "0Lgu0VvyzRFv",
        "outputId": "52806ec3-dc79-4bc6-dba3-d0d4c601f970"
      },
      "execution_count": null,
      "outputs": [
        {
          "output_type": "stream",
          "name": "stdout",
          "text": [
            "{'Breaking Python': 3, 'Machine Love': 5, 'Data Science 101': 3}\n",
            "{'Breaking Python': 3, 'Machine Love': 5, 'Data Science 101': 3, 'AI Rebellion': 1}\n",
            "{'Breaking Python': 3, 'Data Science 101': 3, 'AI Rebellion': 1}\n"
          ]
        }
      ]
    },
    {
      "cell_type": "code",
      "source": [
        "### Pregunta 5\n",
        "\n",
        "usuarios_serie_A = {'ana', 'luis', 'pedro', 'maria'}\n",
        "usuarios_serie_B = {'maria', 'pedro', 'carla', 'lucas'}\n",
        "\n",
        "### Usuarios que vieron ambas series\n",
        "usuarios_intersection = set(usuarios_serie_A ).intersection(set(usuarios_serie_B))\n",
        "print(usuarios_intersection)\n",
        "\n",
        "### Usuarios que solo seria A\n",
        "usuarios_solo_A = set(usuarios_serie_A).difference(usuarios_intersection)\n",
        "print(usuarios_solo_A)\n",
        "\n",
        "### Usuarios que vieron al menos 1 de las 2\n",
        "usuarios_AoB = set(usuarios_serie_A).union(set(usuarios_serie_B))\n",
        "print(usuarios_AoB)"
      ],
      "metadata": {
        "id": "_ILDXkhu0PLh",
        "outputId": "f20f6841-4d84-4833-97ee-b0b18c6f7960",
        "colab": {
          "base_uri": "https://localhost:8080/"
        }
      },
      "execution_count": 3,
      "outputs": [
        {
          "output_type": "stream",
          "name": "stdout",
          "text": [
            "{'pedro', 'maria'}\n",
            "{'luis', 'ana'}\n",
            "{'lucas', 'carla', 'pedro', 'luis', 'maria', 'ana'}\n"
          ]
        }
      ]
    }
  ]
}