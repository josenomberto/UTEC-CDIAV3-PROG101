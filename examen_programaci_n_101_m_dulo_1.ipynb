{
  "nbformat": 4,
  "nbformat_minor": 0,
  "metadata": {
    "colab": {
      "provenance": [],
      "include_colab_link": true
    },
    "kernelspec": {
      "name": "python3",
      "display_name": "Python 3"
    },
    "language_info": {
      "name": "python"
    }
  },
  "cells": [
    {
      "cell_type": "markdown",
      "metadata": {
        "id": "view-in-github",
        "colab_type": "text"
      },
      "source": [
        "<a href=\"https://colab.research.google.com/github/josenomberto/UTEC-CDIAV3-PROG101/blob/main/examen_programaci_n_101_m_dulo_1.ipynb\" target=\"_parent\"><img src=\"https://colab.research.google.com/assets/colab-badge.svg\" alt=\"Open In Colab\"/></a>"
      ]
    },
    {
      "cell_type": "markdown",
      "source": [
        "<img src=\"https://posgrado.utec.edu.pe/sites/default/files/2023-08/Testimonial-home-2.jpg\" alt=\"HTML5 Icon\" width=\"900\" height=\"250\" >\n"
      ],
      "metadata": {
        "id": "ub41hbIV6UQ6"
      }
    },
    {
      "cell_type": "markdown",
      "source": [
        "#**Examen Programación 101 – Módulo 1**\n"
      ],
      "metadata": {
        "id": "zpZSxKDI51_7"
      }
    },
    {
      "cell_type": "markdown",
      "source": [
        "**Contexto**\n",
        "\n",
        "Estás colaborando en el diseño de un sistema básico de autenticación y validación de datos para una empresa tecnológica en expansión. El sistema debe realizar verificaciones fundamentales sobre usuarios, contraseñas, códigos de acceso e identificadores, utilizando únicamente estructuras condicionales y operaciones básicas, dado que el prototipo está pensado para funcionar en dispositivos con capacidad de cómputo muy limitada.\n",
        "\n",
        "Cada pregunta del examen representa uno de los desafíos que debes resolver en este sistema: desde validar un código, clasificar niveles de acceso, hasta verificar si una entrada cumple con múltiples criterios simultáneamente."
      ],
      "metadata": {
        "id": "qphDGB6eAe-K"
      }
    },
    {
      "cell_type": "markdown",
      "source": [
        "\n",
        "\n",
        "**Nombre y Apellido:**\n",
        "\n",
        "---"
      ],
      "metadata": {
        "id": "_MYFZY5D97r5"
      }
    },
    {
      "cell_type": "markdown",
      "source": [
        "Duración: 45 minutos\n",
        "\n",
        "**Instrucciones**\n",
        "\n",
        "1. No está permitido el uso de funciones (def), bucles (for, while)\n",
        "\n",
        "2. Puedes utilizar:\n",
        "\n",
        "  * Asignación de variables\n",
        "  * Operadores aritméticos y lógicos\n",
        "  * Condicionales (if, elif, else)\n",
        "  * Funciones input() y print()\n",
        "\n",
        "3. Se evaluará no solo la respuesta correcta, sino también la claridad, buenas prácticas, uso correcto de tipos de datos y estructura lógica.\n",
        "\n",
        "---"
      ],
      "metadata": {
        "id": "VInsS6-u7MUH"
      }
    },
    {
      "cell_type": "markdown",
      "source": [
        "**Pregunta 1: Validación de Usuario**\n"
      ],
      "metadata": {
        "id": "xVGPY6H68IO_"
      }
    },
    {
      "cell_type": "markdown",
      "source": [
        "Escribe un programa que valide un usuario según estas reglas:\n",
        "\n",
        "* El usuario debe tener exactamente 5 caracteres.\n",
        "* El primer carácter debe ser mayúscula.\n",
        "* El último carácter debe ser un número.\n",
        "\n",
        "Imprime \"Usuario válido\" o \"Usuario inválido\" según corresponda."
      ],
      "metadata": {
        "id": "2mSAVboy8Q6m"
      }
    },
    {
      "cell_type": "code",
      "execution_count": 26,
      "metadata": {
        "id": "mOSniL8V5jR4",
        "colab": {
          "base_uri": "https://localhost:8080/"
        },
        "outputId": "579703c1-0f9b-406a-e983-e2e9bbddab17"
      },
      "outputs": [
        {
          "output_type": "stream",
          "name": "stdout",
          "text": [
            "Obteniendo datos de usuario\n",
            "\t Ingrese el usuario: c32b9\n",
            "Usuario inváido\n"
          ]
        }
      ],
      "source": [
        "# Your code starts here\n",
        "# user_example: usuario = \"A12b4\"\n",
        "\n",
        "### Get the username\n",
        "print('Obteniendo datos de usuario')\n",
        "username = str(input('\\t Ingrese el usuario: '))\n",
        "\n",
        "### Validate if username satisfies conditions\n",
        "if len(username) == 5:\n",
        "  if username[0].isupper():\n",
        "    if username[-1].isdigit():\n",
        "      print('Usuario válido')\n",
        "    else:\n",
        "      print('Usuario inválido')\n",
        "  else:\n",
        "    print('Usuario inváido')\n",
        "else:\n",
        "    print('Usuario inválido')\n",
        "\n",
        "# Your code ends here"
      ]
    },
    {
      "cell_type": "markdown",
      "source": [
        "**Pregunta 2: Nivel de Seguridad Numérico**\n",
        "\n",
        "Pide tres dígitos separados al usuario usando input(). Luego:\n",
        "\n",
        "* Imprime \"ALTO\" si los tres dígitos son diferentes.\n",
        "* Imprime \"MEDIO\" si solo dos son iguales.\n",
        "* Imprime \"BAJO\" si los tres son iguales."
      ],
      "metadata": {
        "id": "ZI1HrCRe8uU6"
      }
    },
    {
      "cell_type": "code",
      "source": [
        "# Your code starts here\n",
        "\n",
        "### Get the three digits from user\n",
        "print('Obteniendo dígitos de usuario')\n",
        "digit_1 = str(input('\\t Ingrese el primer dígito: '))\n",
        "digit_2 = str(input('\\t Ingrese el segundo dígito: '))\n",
        "digit_3 = str(input('\\t Ingrese el tercer dígito: '))\n",
        "\n",
        "### Check if digits satisfies conditions\n",
        "if digit_1 != digit_2 and digit_1 != digit_3 and digit_2 != digit_3:\n",
        "  print('ALTO')\n",
        "elif digit_1 == digit_2 or digit_1 ==\n",
        "\n",
        "  if username[0].isupper():\n",
        "    if username[-1].isdigit():\n",
        "      print('Usuario válido')\n",
        "    else:\n",
        "      print('Usuario inválido')\n",
        "  else:\n",
        "    print('Usuario inválido')\n",
        "else:\n",
        "    print('Usuario inválido'\n",
        "\n",
        "# Your code ends here"
      ],
      "metadata": {
        "id": "hEUnfNCK88lF"
      },
      "execution_count": null,
      "outputs": []
    },
    {
      "cell_type": "markdown",
      "source": [
        "**Pregunta 3: Código de Acceso**\n",
        "\n",
        "Pide al usuario ingresar un número entero de tres dígitos.\n",
        "Verifica si la suma de sus tres dígitos es exactamente 10:\n",
        "\n",
        "* Si lo es, imprime \"Código válido\".\n",
        "* Si no, imprime \"Código inválido\"."
      ],
      "metadata": {
        "id": "DaAUaft_9DMe"
      }
    },
    {
      "cell_type": "code",
      "source": [
        "# Your code starts here\n",
        "\n",
        "### Get three digit number from user\n",
        "print('Obteniendo número de tres digitos de usuario')\n",
        "number = str(input('\\t Ingrese un número de tres dígitos: '))\n",
        "\n",
        "### Check if digits satisfies conditions\n",
        "if len(number) == 3 and number.isnumeric():\n",
        "  first_digit = int(number[0])\n",
        "  second_digit = int(number[1])\n",
        "  third_digit = int(number[2])\n",
        "  sum_digits = first_digit + second_digit + third_digit\n",
        "  if sum_digits == 10:\n",
        "    print('Codigo válido')\n",
        "  else:\n",
        "    print('Codigo inválido')\n",
        "else:\n",
        "  print('Error: debe ingresar un número de tres dígitos')\n",
        "\n",
        "# Your code ends here"
      ],
      "metadata": {
        "id": "Xa15jei89HaU",
        "colab": {
          "base_uri": "https://localhost:8080/"
        },
        "outputId": "7482102e-c2d5-4cfc-9666-383afe9dc9ed"
      },
      "execution_count": 31,
      "outputs": [
        {
          "output_type": "stream",
          "name": "stdout",
          "text": [
            "Obteniendo número de tres digitos de usuario\n",
            "\t Ingrese un número de tres dígitos: 136\n",
            "Codigo válido\n"
          ]
        }
      ]
    },
    {
      "cell_type": "markdown",
      "source": [
        "**Pregunta 4: Identificador de carácter**\n",
        "\n",
        "Pide al usuario un solo carácter y determina:\n",
        "\n",
        "* Si es vocal minúscula → \"Vocal minúscula\"\n",
        "* Si es vocal mayúscula → \"Vocal MAYÚSCULA\"\n",
        "* Si es número → \"Número\"\n",
        "* En cualquier otro caso → \"Símbolo especial\""
      ],
      "metadata": {
        "id": "zHCprzaP9fpB"
      }
    },
    {
      "cell_type": "code",
      "source": [
        "# Your code starts here\n",
        "\n",
        "### Get character from user\n",
        "print('Obteniendo el caracter del usuario')\n",
        "number = str(input('\\t Ingrese un solo caracter: '))\n",
        "\n",
        "### Check if character satisfies conditions\n",
        "if len(char) == 1:\n",
        "  if char.isnumeric():\n",
        "    print('Número')\n",
        "  elif char.isdigit():\n",
        "    if char in ['a','e', 'i', 'o', 'u']:\n",
        "      print('Vocal minúscula')\n",
        "    elif in ['A','E', 'I', 'O', 'U']::\n",
        "      print('Vocal mayúscula')\n",
        "    else:\n",
        "      print('Símbolo especial')\n",
        "else:\n",
        "  print('Error: ingrese caracter de un solo digito')\n",
        "\n",
        "\n",
        "# Your code ends here"
      ],
      "metadata": {
        "id": "OvCpLVUT92uZ"
      },
      "execution_count": null,
      "outputs": []
    },
    {
      "cell_type": "code",
      "source": [
        "char = \"n\"\n",
        "char_in = str(char)\n",
        "char_in.isdigit()"
      ],
      "metadata": {
        "id": "lLOYrnupUaQR",
        "outputId": "7316b6dc-bcaa-4072-e713-60908c0b148d",
        "colab": {
          "base_uri": "https://localhost:8080/"
        }
      },
      "execution_count": 35,
      "outputs": [
        {
          "output_type": "execute_result",
          "data": {
            "text/plain": [
              "False"
            ]
          },
          "metadata": {},
          "execution_count": 35
        }
      ]
    },
    {
      "cell_type": "markdown",
      "source": [
        "**Pregunta 5: Verificación cruzada de identidad**\n",
        "\n",
        "Un sistema de validación recibe los siguientes tres datos como entrada:\n",
        "\n",
        "\n",
        "1. Un código de 6 caracteres (ej. \"A1b2C3\")\n",
        "2. Un número de 3 cifras (ej. 528)\n",
        "3. Una letra (ej. \"b\")\n",
        "\n",
        "El programa debe:\n",
        "\n",
        "* Verificar si:\n",
        "\n",
        "  1. El primer carácter del código es una letra mayúscula,\n",
        "  2. El último carácter del código es un número,\n",
        "  3. La suma de los tres dígitos del número es par, y\n",
        "  4. La letra ingresada se encuentra dentro del código sin distinguir mayúsculas/minúsculas.\n",
        "\n",
        "* Si todas las condiciones se cumplen, imprimir: \"Identidad verificada\"\n",
        "\n",
        "* Si alguna no se cumple, imprimir: \"Acceso denegado\""
      ],
      "metadata": {
        "id": "FJyAxh0I-0N8"
      }
    },
    {
      "cell_type": "code",
      "source": [
        "# Your code starts here\n",
        "\n",
        "\n",
        "# Your code ends here"
      ],
      "metadata": {
        "id": "Z16sSPRc_TDH"
      },
      "execution_count": null,
      "outputs": []
    },
    {
      "cell_type": "markdown",
      "source": [
        "---\n",
        "\n",
        "### Gracias por completar este examen!\n",
        "\n",
        "---\n"
      ],
      "metadata": {
        "id": "vWNdqa91-NiX"
      }
    }
  ]
}